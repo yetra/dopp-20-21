{
 "cells": [
  {
   "cell_type": "markdown",
   "metadata": {
    "deletable": false,
    "editable": false,
    "nbgrader": {
     "cell_type": "markdown",
     "checksum": "d8eab684638e4fad895b76f4b58f2ede",
     "grade": false,
     "grade_id": "exercise-desc",
     "locked": true,
     "schema_version": 3,
     "solution": false,
     "task": false
    }
   },
   "source": [
    "# DOPP 2020W Exercise 1\n",
    "## Butterflies\n",
    "\n",
    "== *_Due date: November 3rd, 2020. 23:59 CEST_* ==\n",
    "\n",
    "The authors of scientific article on butterfly wing shapes [ 1 ] have made the data on which their analysis is based publicly available [ 2 ]. You are  asked to re-analyse that data. \n",
    "\n",
    "The data used by the article's authors is stored as an XLS file, with records spread over 10 sheets. In a first step, you have to load the data into Python and organize it before doing any analysis.\n",
    "\n",
    "The aim of this exercise is to import some of the data from the XLSX file into Python and output a CSV file. The data to import and export into the CSV file must refer to the Experimental Brood only. The CSV file must contain a single grid with (one or more) columns:\n",
    "* Name\n",
    "* Sex\n",
    "* Genotype\n",
    "* Phenotype\n",
    "* Wing perimeter\n",
    "* Landmarks\n",
    "\n",
    "The CSV file must contain one line for each \"name\" in the Experimental Brood sheet. The column headings for the landmarks should be \"landmark 1 x\", \"landmark 1 y\", \"landmark 2 x\", \"landmark 2 y\", …\n",
    "\n",
    "<span style=\"color:red;font-weight:bold;\">Important:</span> \n",
    "* You are <span style = \"font-weight:bold\">not allowed</span> to use NumPy, SciPy, or Pandas.\n",
    "* The code must run on JupyterHub (here!). If the code does not run, you will not get the points for the non-running cells.\n",
    "* Do not create global variables as they might be overriden!\n",
    "* Task 5 will not be graded if you didn't attempt the previous tasks as well\n",
    "* _Don't forget about the Quiz on TUWEL_, otherwise you won't be able to reach the full 100 points for this exercise.\n",
    "\n",
    "\n",
    "[1] Jones, R.T., Poul, Y.L., Whibley, A.C., Mérot, C., ffrench‐Constant, R.H. and Joron, M. (2013), WING SHAPE VARIATION ASSOCIATED WITH MIMICRY IN BUTTERFLIES. Evolution, 67: 2323-2334. <a href = \"doi:10.1111/evo.12114\"> doi:10.1111/evo.12114 </a>\n",
    "\n",
    "[2] <a href = \"https://datadryad.org/stash/dataset/doi:10.5061/dryad.1s15q\"> https://datadryad.org/stash/dataset/doi:10.5061/dryad.1s15q </a> and \"WING paper Data for repository.xlsx\" on JupyterHub."
   ]
  },
  {
   "cell_type": "code",
   "execution_count": 3,
   "metadata": {},
   "outputs": [],
   "source": [
    "import csv\n",
    "import re\n",
    "import matplotlib.pyplot as plt\n",
    "import xlrd\n",
    "\n",
    "# you may add more packages from the Python standard library (but not remove the packages above!)"
   ]
  },
  {
   "cell_type": "markdown",
   "metadata": {
    "deletable": false,
    "editable": false,
    "nbgrader": {
     "cell_type": "markdown",
     "checksum": "ca59954d127415db471927ff4aec5ee9",
     "grade": false,
     "grade_id": "task1-desc",
     "locked": true,
     "schema_version": 3,
     "solution": false,
     "task": false
    }
   },
   "source": [
    "## Task 1 (25 points)\n",
    "\n",
    "Implement the function `load_data`.\n",
    "\n",
    "This function takes an excel filepath as input and returns a dictionary which contains the data from the file. Every sheet and its content in the excel file corresponds to a key value pair in the dictionary. Rows will be encoded as lists of values and therefore a sheet becomes a list of lists.\n",
    "\n",
    "Here is an example dictionary to showcase how the output should look like:\n",
    "\n",
    "```python\n",
    "{\n",
    "    \"sheet name\": [\n",
    "        [\"column name 1\", \"column name 2\"],\n",
    "        [\"first row string\", 12.5],\n",
    "        [\"second row string\", 5.5],\n",
    "        ...\n",
    "    ],\n",
    "    ...\n",
    "}\n",
    "```\n",
    "\n",
    "### Note\n",
    "\n",
    "- Use the library `xlrd` to read the excel file\n",
    "- Apply datatype conversions if possible e.g. `\"12.5\"` -> `12.5`\n",
    "- Do not change sheet or column names e.g. lowercasing etc.\n",
    "- Do not change row or column order of the tables\n",
    "- Remove rows that do not represent data content e.g. descriptions, empty rows etc.\n",
    "- Keep column names if they are present in the first row"
   ]
  },
  {
   "cell_type": "code",
   "execution_count": 4,
   "metadata": {
    "deletable": false,
    "nbgrader": {
     "cell_type": "code",
     "checksum": "2ca255ec0f9fd2515d68243814bb0992",
     "grade": false,
     "grade_id": "task1-problem",
     "locked": false,
     "schema_version": 3,
     "solution": true,
     "task": false
    }
   },
   "outputs": [],
   "source": [
    "def load_data(excel_path):\n",
    "    \"\"\"\n",
    "    Load data from excel file\n",
    "    \n",
    "    Parameters\n",
    "    ----------\n",
    "    excel_path : str\n",
    "        Path to wing paper excel file (.xlsx)\n",
    "    \n",
    "    Returns\n",
    "    -------\n",
    "    data : dictionary of list of lists\n",
    "        Table data from wing paper excel file for all sheets\n",
    "    \"\"\"\n",
    "    \n",
    "    data = {}\n",
    "    \n",
    "    book = xlrd.open_workbook(excel_path)\n",
    "    \n",
    "    for sheet in book.sheets():\n",
    "        rows = []\n",
    "        \n",
    "        for row_idx in range(sheet.nrows):\n",
    "            num_empty = 0\n",
    "            row = []\n",
    "            \n",
    "            for cell in sheet.row(row_idx):\n",
    "                if cell.ctype != xlrd.XL_CELL_ERROR:\n",
    "                    if isinstance(cell.value, float) and cell.value == int(cell.value):\n",
    "                        cell.value = int(cell.value)\n",
    "                        \n",
    "                    row.append(cell.value)\n",
    "                    \n",
    "                if cell.value == '':\n",
    "                    num_empty += 1\n",
    "            \n",
    "            # stop when empty row is reached\n",
    "            if num_empty == sheet.ncols:\n",
    "                break\n",
    "            \n",
    "            rows.append(row)\n",
    "        \n",
    "        data[sheet.name] = rows\n",
    "    \n",
    "    return data"
   ]
  },
  {
   "cell_type": "code",
   "execution_count": 5,
   "metadata": {
    "deletable": false,
    "editable": false,
    "nbgrader": {
     "cell_type": "code",
     "checksum": "2c25c7e17536e5ff91b3d25874cb3feb",
     "grade": false,
     "grade_id": "task1-run-answer",
     "locked": true,
     "schema_version": 3,
     "solution": false,
     "task": false
    }
   },
   "outputs": [],
   "source": [
    "DATA = load_data(\"WING paper Data for repository.xlsx\")"
   ]
  },
  {
   "cell_type": "code",
   "execution_count": 141,
   "metadata": {
    "deletable": false,
    "editable": false,
    "nbgrader": {
     "cell_type": "code",
     "checksum": "d8667aea6bb465863f02cefa135fd673",
     "grade": false,
     "grade_id": "task1-helpful-asserts",
     "locked": true,
     "schema_version": 3,
     "solution": false,
     "task": false
    }
   },
   "outputs": [],
   "source": [
    "# to make sure you have the right data structure\n",
    "assert isinstance(DATA, dict)\n",
    "assert all(isinstance(k, str) and isinstance(v, list) for k, vs in DATA.items() for v in vs)"
   ]
  },
  {
   "cell_type": "code",
   "execution_count": null,
   "metadata": {
    "deletable": false,
    "editable": false,
    "nbgrader": {
     "cell_type": "code",
     "checksum": "4aa5d2ac15b579355e0bda58dd4f55a1",
     "grade": true,
     "grade_id": "task1-run-solution",
     "locked": true,
     "points": 0,
     "schema_version": 3,
     "solution": false,
     "task": false
    }
   },
   "outputs": [],
   "source": [
    "# hidden tests"
   ]
  },
  {
   "cell_type": "code",
   "execution_count": null,
   "metadata": {
    "deletable": false,
    "editable": false,
    "nbgrader": {
     "cell_type": "code",
     "checksum": "28136be8ef0330d6b6310c3dedf27635",
     "grade": true,
     "grade_id": "task1-all-sheets-present",
     "locked": true,
     "points": 5,
     "schema_version": 3,
     "solution": false,
     "task": false
    }
   },
   "outputs": [],
   "source": [
    "# hidden tests"
   ]
  },
  {
   "cell_type": "code",
   "execution_count": null,
   "metadata": {
    "deletable": false,
    "editable": false,
    "nbgrader": {
     "cell_type": "code",
     "checksum": "d32809874bc3c6694014ef304a815486",
     "grade": true,
     "grade_id": "task1-exp-brood-mostly",
     "locked": true,
     "points": 3,
     "schema_version": 3,
     "solution": false,
     "task": false
    }
   },
   "outputs": [],
   "source": [
    "# hidden tests"
   ]
  },
  {
   "cell_type": "code",
   "execution_count": null,
   "metadata": {
    "deletable": false,
    "editable": false,
    "nbgrader": {
     "cell_type": "code",
     "checksum": "d6f2c87e68d1c3c78e47ea7acd18ff26",
     "grade": true,
     "grade_id": "task1-exp-brood-all",
     "locked": true,
     "points": 2,
     "schema_version": 3,
     "solution": false,
     "task": false
    }
   },
   "outputs": [],
   "source": [
    "# hidden tests"
   ]
  },
  {
   "cell_type": "code",
   "execution_count": null,
   "metadata": {
    "deletable": false,
    "editable": false,
    "nbgrader": {
     "cell_type": "code",
     "checksum": "f19e54cc45d3443227cb7027da5cc81e",
     "grade": true,
     "grade_id": "task1-wing-perim-mostly",
     "locked": true,
     "points": 3,
     "schema_version": 3,
     "solution": false,
     "task": false
    }
   },
   "outputs": [],
   "source": [
    "# hidden tests"
   ]
  },
  {
   "cell_type": "code",
   "execution_count": null,
   "metadata": {
    "deletable": false,
    "editable": false,
    "nbgrader": {
     "cell_type": "code",
     "checksum": "0b9d86aeaae8aa1a5d9cef4e1f7606d9",
     "grade": true,
     "grade_id": "task1-wing-perim-all",
     "locked": true,
     "points": 2,
     "schema_version": 3,
     "solution": false,
     "task": false
    }
   },
   "outputs": [],
   "source": [
    "# hidden tests"
   ]
  },
  {
   "cell_type": "code",
   "execution_count": null,
   "metadata": {
    "deletable": false,
    "editable": false,
    "nbgrader": {
     "cell_type": "code",
     "checksum": "375a2fd41e7ff0664ff9b184a9311ef2",
     "grade": true,
     "grade_id": "task1-landmark-det-mostly",
     "locked": true,
     "points": 3,
     "schema_version": 3,
     "solution": false,
     "task": false
    }
   },
   "outputs": [],
   "source": [
    "# hidden tests"
   ]
  },
  {
   "cell_type": "code",
   "execution_count": null,
   "metadata": {
    "deletable": false,
    "editable": false,
    "nbgrader": {
     "cell_type": "code",
     "checksum": "acaa0d7d4673d4717c514f04d8e7bff3",
     "grade": true,
     "grade_id": "task1-landmark-det-all",
     "locked": true,
     "points": 2,
     "schema_version": 3,
     "solution": false,
     "task": false
    }
   },
   "outputs": [],
   "source": [
    "# hidden tests"
   ]
  },
  {
   "cell_type": "code",
   "execution_count": null,
   "metadata": {
    "deletable": false,
    "editable": false,
    "nbgrader": {
     "cell_type": "code",
     "checksum": "659d88d1ac493714a1ca74e01fc093ea",
     "grade": true,
     "grade_id": "task1-landmark-coord-mostly",
     "locked": true,
     "points": 3,
     "schema_version": 3,
     "solution": false,
     "task": false
    }
   },
   "outputs": [],
   "source": [
    "# hidden tests"
   ]
  },
  {
   "cell_type": "code",
   "execution_count": null,
   "metadata": {
    "deletable": false,
    "editable": false,
    "nbgrader": {
     "cell_type": "code",
     "checksum": "76a9c2dc54eddb4d73af85a49886b9df",
     "grade": true,
     "grade_id": "task1-landmark-coord-all",
     "locked": true,
     "points": 2,
     "schema_version": 3,
     "solution": false,
     "task": false
    }
   },
   "outputs": [],
   "source": [
    "# hidden tests"
   ]
  },
  {
   "cell_type": "markdown",
   "metadata": {
    "deletable": false,
    "editable": false,
    "nbgrader": {
     "cell_type": "markdown",
     "checksum": "192fcfeffbf4504860a52b98c3fb2975",
     "grade": false,
     "grade_id": "task2-desc",
     "locked": true,
     "schema_version": 3,
     "solution": false,
     "task": false
    }
   },
   "source": [
    "## Task 2 (20 points)\n",
    "\n",
    "Implement the function `landmark_coordinates_table`.\n",
    "\n",
    "The sheet \"Landmark coordinates\" encodes wing color pattern landmark coordinates in a special format. Convert the contents of this sheet into a plain table format. The column headings of this table should be `name, landmark 1 x, landmark 1 y, landmark 2 x, landmark 2 y, ...`. The enumeration of the landmarks corresponds to the position in the list of the special format. The `name` column should contain the name of the organism which the landmarks belong to.\n",
    "\n",
    "### Note\n",
    "\n",
    "- Include the new column headings as the first row in the output"
   ]
  },
  {
   "cell_type": "code",
   "execution_count": 7,
   "metadata": {
    "deletable": false,
    "nbgrader": {
     "cell_type": "code",
     "checksum": "91089341bfdbd5bbd106a2029757538d",
     "grade": false,
     "grade_id": "task2-problem",
     "locked": false,
     "schema_version": 3,
     "solution": true,
     "task": false
    }
   },
   "outputs": [],
   "source": [
    "def landmark_coordinates_table(data):\n",
    "    \"\"\"\n",
    "    Transform landmark coordinates sheet data from special format to table format described in Task 2\n",
    "    \n",
    "    Parameters\n",
    "    ----------\n",
    "    data : dictionary of list of lists\n",
    "        Data loaded from your `load_data` function in Task 1\n",
    "    \n",
    "    Returns\n",
    "    -------\n",
    "    output : list of lists\n",
    "        Transformed landmark coordinates from landmark coordinates sheet\n",
    "    \"\"\"\n",
    "    \n",
    "    output = []\n",
    "    \n",
    "    new_row = [\"\"]\n",
    "    max_lm = 0\n",
    "    \n",
    "    for row in data[\"Landmark coordinates\"]:\n",
    "        # if row contains coordinates, simply add them to current row\n",
    "        if isinstance(row[0], int):\n",
    "            new_row += row\n",
    "        \n",
    "        # if ID is reached, find name and move to next row\n",
    "        elif row[0].startswith(\"ID=\"):\n",
    "            id_idx = int(row[0].split(\"=\")[1]) + 1\n",
    "            new_row[0] = data[\"Landmark details\"][id_idx][2] # name\n",
    "            \n",
    "            output.append(new_row)\n",
    "            new_row = [\"\"]\n",
    "        \n",
    "        # if LM is reached, update max number of landmarks\n",
    "        elif row[0].startswith(\"LM=\"):\n",
    "            max_lm = max(max_lm, int(row[0].split(\"=\")[1]))\n",
    "    \n",
    "    headings = [\"name\"]\n",
    "\n",
    "    for i in range(max_lm):\n",
    "        headings += [f\"landmark {i + 1} x\", f\"landmark {i + 1} y\"]\n",
    "    \n",
    "    output = [headings] + output\n",
    "    \n",
    "    return output"
   ]
  },
  {
   "cell_type": "code",
   "execution_count": 8,
   "metadata": {
    "deletable": false,
    "editable": false,
    "nbgrader": {
     "cell_type": "code",
     "checksum": "0811603bc4b7d8fefa152ed3eb454f88",
     "grade": false,
     "grade_id": "task2-run-answer",
     "locked": true,
     "schema_version": 3,
     "solution": false,
     "task": false
    }
   },
   "outputs": [],
   "source": [
    "DATA[\"Landmark coordinates\"] = landmark_coordinates_table(DATA)"
   ]
  },
  {
   "cell_type": "code",
   "execution_count": null,
   "metadata": {
    "deletable": false,
    "editable": false,
    "nbgrader": {
     "cell_type": "code",
     "checksum": "861d8ef7835ef378c3ae59f349076334",
     "grade": true,
     "grade_id": "task2-run-solution",
     "locked": true,
     "points": 0,
     "schema_version": 3,
     "solution": false,
     "task": false
    }
   },
   "outputs": [],
   "source": [
    "# hidden tests"
   ]
  },
  {
   "cell_type": "code",
   "execution_count": null,
   "metadata": {
    "deletable": false,
    "editable": false,
    "nbgrader": {
     "cell_type": "code",
     "checksum": "668ca2ea83f6963326bc2b8407e3d221",
     "grade": true,
     "grade_id": "task2-correct-columns",
     "locked": true,
     "points": 5,
     "schema_version": 3,
     "solution": false,
     "task": false
    }
   },
   "outputs": [],
   "source": [
    "# hidden tests"
   ]
  },
  {
   "cell_type": "code",
   "execution_count": null,
   "metadata": {
    "deletable": false,
    "editable": false,
    "nbgrader": {
     "cell_type": "code",
     "checksum": "98ebdbcc2d79212deaf921c76c172ab4",
     "grade": true,
     "grade_id": "task2-land-transform-mostly",
     "locked": true,
     "points": 5,
     "schema_version": 3,
     "solution": false,
     "task": false
    }
   },
   "outputs": [],
   "source": [
    "# hidden tests"
   ]
  },
  {
   "cell_type": "code",
   "execution_count": null,
   "metadata": {
    "deletable": false,
    "editable": false,
    "nbgrader": {
     "cell_type": "code",
     "checksum": "36436ee04e7f29997e5cbef17cb0e122",
     "grade": true,
     "grade_id": "task2-land-transform-all",
     "locked": true,
     "points": 10,
     "schema_version": 3,
     "solution": false,
     "task": false
    }
   },
   "outputs": [],
   "source": [
    "# hidden tests"
   ]
  },
  {
   "cell_type": "markdown",
   "metadata": {
    "deletable": false,
    "editable": false,
    "nbgrader": {
     "cell_type": "markdown",
     "checksum": "b0b33eb32398186ecbcebbb15aad8bc4",
     "grade": false,
     "grade_id": "task3-desc",
     "locked": true,
     "schema_version": 3,
     "solution": false,
     "task": false
    }
   },
   "source": [
    "## Task 3 (15 points)\n",
    "\n",
    "Implement the function `build_csv`.\n",
    "\n",
    "Write a CSV file which contains the following data for each \"name\" in the \"Experimental brood\" sheet:\n",
    "\n",
    "- name\n",
    "- sex\n",
    "- genotype\n",
    "- phenotype\n",
    "- wing perimeter\n",
    "- landmark 1 x, landmark 1 y, landmark 2 x, ...\n",
    "\n",
    "The CSV file should be written to the path provided by the argument `output_path`.\n",
    "\n",
    "### Note\n",
    "\n",
    "- The column headings must be named as in the bullet list above i.e. lowercase, singular etc.\n",
    "- If some cells in the table don't have values then they should be empty\n",
    "- The order of the rows or columns doesn't matter"
   ]
  },
  {
   "cell_type": "code",
   "execution_count": 10,
   "metadata": {
    "deletable": false,
    "nbgrader": {
     "cell_type": "code",
     "checksum": "a71b64659da0355118ddc0cac77b97d1",
     "grade": false,
     "grade_id": "task3-problem",
     "locked": false,
     "schema_version": 3,
     "solution": true,
     "task": false
    }
   },
   "outputs": [],
   "source": [
    "def build_csv(data, output_path):\n",
    "    \"\"\"\n",
    "    Build and write a CSV file\n",
    "    \n",
    "    Parameters\n",
    "    ----------\n",
    "    data : dictionary of list of lists\n",
    "        Data loaded from your `load_data` function from Task 1 and modified in Task 2\n",
    "    output_path : str\n",
    "        Path to store CSV file to\n",
    "    \"\"\"\n",
    "    \n",
    "    with open(output_path, 'w') as csvfile:\n",
    "        writer = csv.writer(csvfile)\n",
    "        \n",
    "        # header\n",
    "        writer.writerow(DATA[\"Experimental brood\"][0]\n",
    "                        + [\"wing perimeter\"] \n",
    "                        + DATA[\"Landmark coordinates\"][0][1:])\n",
    "        \n",
    "        # extract coordinates data indexes to dict where key is name\n",
    "        coords_dict = {row[0]:row for row in DATA[\"Landmark coordinates\"]}\n",
    "        \n",
    "        for row_eb, row_wp in zip(DATA[\"Experimental brood\"][1:],\n",
    "                                  DATA[\"Wing perimeter\"][1:]):\n",
    "            if row_eb[0] in coords_dict:\n",
    "                writer.writerow(row_eb + row_wp[2:] + coords_dict[row_eb[0]][1:])\n",
    "                continue\n",
    "            \n",
    "            # fill with empty values if there is no landmark data\n",
    "            writer.writerow(row_eb + row_wp[2:] + [''] * 40)"
   ]
  },
  {
   "cell_type": "code",
   "execution_count": 11,
   "metadata": {
    "deletable": false,
    "editable": false,
    "nbgrader": {
     "cell_type": "code",
     "checksum": "2b8819027e26cd3c925912211ef31d29",
     "grade": false,
     "grade_id": "task3-run-answer",
     "locked": true,
     "schema_version": 3,
     "solution": false,
     "task": false
    }
   },
   "outputs": [],
   "source": [
    "build_csv(DATA, \"wings.csv\")"
   ]
  },
  {
   "cell_type": "code",
   "execution_count": null,
   "metadata": {
    "deletable": false,
    "editable": false,
    "nbgrader": {
     "cell_type": "code",
     "checksum": "9b0860eb96a426ccc6910a53374fd7c6",
     "grade": true,
     "grade_id": "task3-run-solution",
     "locked": true,
     "points": 0,
     "schema_version": 3,
     "solution": false,
     "task": false
    }
   },
   "outputs": [],
   "source": [
    "# hidden tests"
   ]
  },
  {
   "cell_type": "code",
   "execution_count": null,
   "metadata": {
    "deletable": false,
    "editable": false,
    "nbgrader": {
     "cell_type": "code",
     "checksum": "c6b20a1e34ac75b1eb4f68c330b5615c",
     "grade": true,
     "grade_id": "task3-columns-correct",
     "locked": true,
     "points": 5,
     "schema_version": 3,
     "solution": false,
     "task": false
    }
   },
   "outputs": [],
   "source": [
    "# hidden tests"
   ]
  },
  {
   "cell_type": "code",
   "execution_count": null,
   "metadata": {
    "deletable": false,
    "editable": false,
    "nbgrader": {
     "cell_type": "code",
     "checksum": "c6ab4b387fb75442f25f9f9eeef0c654",
     "grade": true,
     "grade_id": "task3-overlap-mostly",
     "locked": true,
     "points": 5,
     "schema_version": 3,
     "solution": false,
     "task": false
    }
   },
   "outputs": [],
   "source": [
    "# hidden tests"
   ]
  },
  {
   "cell_type": "code",
   "execution_count": null,
   "metadata": {
    "deletable": false,
    "editable": false,
    "nbgrader": {
     "cell_type": "code",
     "checksum": "1a54ceda5c76bcbd674e5e169c580d25",
     "grade": true,
     "grade_id": "task3-overlap-all",
     "locked": true,
     "points": 5,
     "schema_version": 3,
     "solution": false,
     "task": false
    }
   },
   "outputs": [],
   "source": [
    "# hidden tests"
   ]
  },
  {
   "cell_type": "markdown",
   "metadata": {
    "deletable": false,
    "editable": false,
    "nbgrader": {
     "cell_type": "markdown",
     "checksum": "5a6170a624d6c56d840c54515d652ba0",
     "grade": false,
     "grade_id": "task4-desc",
     "locked": true,
     "schema_version": 3,
     "solution": false,
     "task": false
    }
   },
   "source": [
    "## Task 4 (10 points)\n",
    "\n",
    "Implement the function `plot_histogram`.\n",
    "\n",
    "Use matplotlib to inspect the distribution of wing perimeters by plotting a histogram of the wing perimeters. \n",
    "\n",
    "Choose appropriate parameters/labels for:\n",
    "- bins\n",
    "- axis labels\n",
    "- title"
   ]
  },
  {
   "cell_type": "code",
   "execution_count": 96,
   "metadata": {
    "deletable": false,
    "nbgrader": {
     "cell_type": "code",
     "checksum": "9eec2b9efd99e9af6ff7fd740c00b549",
     "grade": true,
     "grade_id": "task4-problem",
     "locked": false,
     "points": 10,
     "schema_version": 3,
     "solution": true,
     "task": false
    }
   },
   "outputs": [],
   "source": [
    "def plot_histogram(csv_path):\n",
    "    \"\"\"\n",
    "    Plot histogram of wing perimeter values from the CSV file created by `build_csv` in Task 3\n",
    "    \n",
    "    Parameters\n",
    "    ----------\n",
    "    csv_path : str\n",
    "        Path where the CSV file is stored\n",
    "    \"\"\"\n",
    "    with open(csv_path) as csvfile:\n",
    "        reader = csv.DictReader(csvfile)\n",
    "        perimeters = [float(row[\"wing perimeter\"]) for row in reader]\n",
    "    \n",
    "    fig, ax = plt.subplots(1,1)\n",
    "    \n",
    "    # 15 bins were chosen because they best reflect\n",
    "    # the dip at around 4500 and subsequent peak at\n",
    "    # around 4900 - this isn't clear with e.g. 10 bins\n",
    "    ax.hist(perimeters, bins = 15)\n",
    "    \n",
    "    ax.set_title(\"histogram of wing perimiters\")\n",
    "    ax.set_xlabel(\"wing perimeter\")\n",
    "    ax.set_ylabel(\"frequency\")\n",
    "    \n",
    "    plt.show()"
   ]
  },
  {
   "cell_type": "code",
   "execution_count": 99,
   "metadata": {
    "deletable": false,
    "editable": false,
    "nbgrader": {
     "cell_type": "code",
     "checksum": "b75fa1da5fc932d604f3b65cb0304717",
     "grade": false,
     "grade_id": "task4-run-answer",
     "locked": true,
     "schema_version": 3,
     "solution": false,
     "task": false
    }
   },
   "outputs": [
    {
     "data": {
      "image/png": "[encoded data removed]",
      "text/plain": [
       "<Figure size 432x288 with 1 Axes>"
      ]
     },
     "metadata": {
      "needs_background": "light"
     },
     "output_type": "display_data"
    }
   ],
   "source": [
    "plot_histogram(\"wings.csv\")"
   ]
  },
  {
   "cell_type": "markdown",
   "metadata": {
    "deletable": false,
    "editable": false,
    "nbgrader": {
     "cell_type": "markdown",
     "checksum": "95c45a1609bcadfb2fe978919ececc8c",
     "grade": false,
     "grade_id": "task5-desc",
     "locked": true,
     "schema_version": 3,
     "solution": false,
     "task": false
    }
   },
   "source": [
    "## Task 5 (10 points) \n",
    "\n",
    "<span style = \"font-weight:bold;\">Reflection</span> \n",
    "\n",
    "Write in the field below your observations about the Dryad data set. For example: Were there any discrepancies in the data set? If yes, how did you handle them? Size of the broods, etc.\n",
    "\n",
    "<span style = \"font-weight:bold;\">Important note:</span> Points on this task will not be awarded if you didn't attempt the previous tasks as well."
   ]
  },
  {
   "cell_type": "markdown",
   "metadata": {
    "deletable": false,
    "nbgrader": {
     "cell_type": "markdown",
     "checksum": "ce6629264037154dd43dac13cef5a4f2",
     "grade": true,
     "grade_id": "task5-answer",
     "locked": false,
     "points": 10,
     "schema_version": 3,
     "solution": true,
     "task": false
    }
   },
   "source": [
    "YOUR ANSWER HERE"
   ]
  }
 ],
 "metadata": {
  "kernelspec": {
   "display_name": "Python 3",
   "language": "python",
   "name": "python3"
  },
  "language_info": {
   "codemirror_mode": {
    "name": "ipython",
    "version": 3
   },
   "file_extension": ".py",
   "mimetype": "text/x-python",
   "name": "python",
   "nbconvert_exporter": "python",
   "pygments_lexer": "ipython3",
   "version": "3.8.6"
  }
 },
 "nbformat": 4,
 "nbformat_minor": 4
}
